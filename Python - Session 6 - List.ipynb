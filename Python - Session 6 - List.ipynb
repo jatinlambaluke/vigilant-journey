{
 "cells": [
  {
   "cell_type": "markdown",
   "metadata": {
    "collapsed": true
   },
   "source": [
    "### A. List is a sequence of values"
   ]
  },
  {
   "cell_type": "markdown",
   "metadata": {},
   "source": [
    "Like a string, a list is a sequence of values. In a string, the values are characters; in a list, they can be any type. The values in list are called elements or sometimes items."
   ]
  },
  {
   "cell_type": "markdown",
   "metadata": {},
   "source": [
    "### B. List Examples"
   ]
  },
  {
   "cell_type": "code",
   "execution_count": 1,
   "metadata": {},
   "outputs": [
    {
     "data": {
      "text/plain": [
       "[1, 3, 5, 7, 9]"
      ]
     },
     "execution_count": 1,
     "metadata": {},
     "output_type": "execute_result"
    }
   ],
   "source": [
    "[1,3,5,7,9]"
   ]
  },
  {
   "cell_type": "code",
   "execution_count": 2,
   "metadata": {},
   "outputs": [
    {
     "data": {
      "text/plain": [
       "['apple', 'ball', 'cat', 'doll']"
      ]
     },
     "execution_count": 2,
     "metadata": {},
     "output_type": "execute_result"
    }
   ],
   "source": [
    "['apple', 'ball', 'cat', 'doll']"
   ]
  },
  {
   "cell_type": "code",
   "execution_count": 3,
   "metadata": {},
   "outputs": [
    {
     "data": {
      "text/plain": [
       "[1, 'one']"
      ]
     },
     "execution_count": 3,
     "metadata": {},
     "output_type": "execute_result"
    }
   ],
   "source": [
    "[1, 'one']"
   ]
  },
  {
   "cell_type": "markdown",
   "metadata": {},
   "source": [
    "### C. Lists are Mutable "
   ]
  },
  {
   "cell_type": "code",
   "execution_count": 4,
   "metadata": {},
   "outputs": [
    {
     "data": {
      "text/plain": [
       "'ball'"
      ]
     },
     "execution_count": 4,
     "metadata": {},
     "output_type": "execute_result"
    }
   ],
   "source": [
    "words = ['apple', 'ball', 'cat', 'doll']\n",
    "words[1]"
   ]
  },
  {
   "cell_type": "code",
   "execution_count": 5,
   "metadata": {},
   "outputs": [
    {
     "data": {
      "text/plain": [
       "['apple', 'balloon', 'cat', 'doll']"
      ]
     },
     "execution_count": 5,
     "metadata": {},
     "output_type": "execute_result"
    }
   ],
   "source": [
    "words[1]= 'balloon'\n",
    "words"
   ]
  },
  {
   "cell_type": "markdown",
   "metadata": {},
   "source": [
    "### D. List Operations"
   ]
  },
  {
   "cell_type": "code",
   "execution_count": 6,
   "metadata": {},
   "outputs": [
    {
     "data": {
      "text/plain": [
       "[1, 2, 3, 4, 5, 6]"
      ]
     },
     "execution_count": 6,
     "metadata": {},
     "output_type": "execute_result"
    }
   ],
   "source": [
    "a = [1,2,3]\n",
    "b = [4,5,6]\n",
    "\n",
    "a + b "
   ]
  },
  {
   "cell_type": "code",
   "execution_count": 7,
   "metadata": {},
   "outputs": [
    {
     "data": {
      "text/plain": [
       "[1, 1, 1, 1]"
      ]
     },
     "execution_count": 7,
     "metadata": {},
     "output_type": "execute_result"
    }
   ],
   "source": [
    "[1]*4"
   ]
  },
  {
   "cell_type": "code",
   "execution_count": 8,
   "metadata": {},
   "outputs": [
    {
     "data": {
      "text/plain": [
       "[1, 2, 3, 1, 2, 3, 1, 2, 3]"
      ]
     },
     "execution_count": 8,
     "metadata": {},
     "output_type": "execute_result"
    }
   ],
   "source": [
    "[1,2,3]*3"
   ]
  },
  {
   "cell_type": "markdown",
   "metadata": {},
   "source": [
    "### E. Slicing List"
   ]
  },
  {
   "cell_type": "code",
   "execution_count": 9,
   "metadata": {},
   "outputs": [
    {
     "data": {
      "text/plain": [
       "'apple'"
      ]
     },
     "execution_count": 9,
     "metadata": {},
     "output_type": "execute_result"
    }
   ],
   "source": [
    "words = ['apple', 'ball', 'cat', 'dog', 'elephant', 'fish', 'giraffe']\n",
    "words[0]"
   ]
  },
  {
   "cell_type": "code",
   "execution_count": 10,
   "metadata": {},
   "outputs": [
    {
     "data": {
      "text/plain": [
       "['ball', 'cat']"
      ]
     },
     "execution_count": 10,
     "metadata": {},
     "output_type": "execute_result"
    }
   ],
   "source": [
    "words[1:3] #slice the elements of incides 1 and 2"
   ]
  },
  {
   "cell_type": "code",
   "execution_count": 11,
   "metadata": {},
   "outputs": [
    {
     "data": {
      "text/plain": [
       "'giraffe'"
      ]
     },
     "execution_count": 11,
     "metadata": {},
     "output_type": "execute_result"
    }
   ],
   "source": [
    "words[-1]  #last element"
   ]
  },
  {
   "cell_type": "code",
   "execution_count": 12,
   "metadata": {},
   "outputs": [
    {
     "data": {
      "text/plain": [
       "'fish'"
      ]
     },
     "execution_count": 12,
     "metadata": {},
     "output_type": "execute_result"
    }
   ],
   "source": [
    "words[-2]  #second last elements"
   ]
  },
  {
   "cell_type": "code",
   "execution_count": 13,
   "metadata": {},
   "outputs": [
    {
     "data": {
      "text/plain": [
       "['fish', 'giraffe']"
      ]
     },
     "execution_count": 13,
     "metadata": {},
     "output_type": "execute_result"
    }
   ],
   "source": [
    "words[-2:] #the last two elements"
   ]
  },
  {
   "cell_type": "code",
   "execution_count": 14,
   "metadata": {},
   "outputs": [
    {
     "data": {
      "text/plain": [
       "['apple', 'ball', 'cat', 'dog', 'elephant']"
      ]
     },
     "execution_count": 14,
     "metadata": {},
     "output_type": "execute_result"
    }
   ],
   "source": [
    "words[:-2] #All elements except the last two elements"
   ]
  },
  {
   "cell_type": "code",
   "execution_count": 15,
   "metadata": {},
   "outputs": [
    {
     "data": {
      "text/plain": [
       "['apple', 'cat', 'elephant']"
      ]
     },
     "execution_count": 15,
     "metadata": {},
     "output_type": "execute_result"
    }
   ],
   "source": [
    "words[0:5:2] #elements from indices 0 to 4 at an interval of 2"
   ]
  },
  {
   "cell_type": "code",
   "execution_count": 16,
   "metadata": {},
   "outputs": [
    {
     "data": {
      "text/plain": [
       "['giraffe', 'fish', 'elephant', 'dog', 'cat', 'ball', 'apple']"
      ]
     },
     "execution_count": 16,
     "metadata": {},
     "output_type": "execute_result"
    }
   ],
   "source": [
    "words[::-1]  #Reverse the elements by taking elements at an interval of 1"
   ]
  },
  {
   "cell_type": "code",
   "execution_count": 17,
   "metadata": {},
   "outputs": [
    {
     "data": {
      "text/plain": [
       "['giraffe', 'elephant', 'cat', 'apple']"
      ]
     },
     "execution_count": 17,
     "metadata": {},
     "output_type": "execute_result"
    }
   ],
   "source": [
    "words[::-2]  #Reverse the elements by taking elements at an interval of 2"
   ]
  },
  {
   "cell_type": "markdown",
   "metadata": {},
   "source": [
    "### F. List and Function"
   ]
  },
  {
   "cell_type": "code",
   "execution_count": 18,
   "metadata": {},
   "outputs": [
    {
     "data": {
      "text/plain": [
       "7"
      ]
     },
     "execution_count": 18,
     "metadata": {},
     "output_type": "execute_result"
    }
   ],
   "source": [
    "len(words)"
   ]
  },
  {
   "cell_type": "code",
   "execution_count": 19,
   "metadata": {},
   "outputs": [
    {
     "data": {
      "text/plain": [
       "'giraffe'"
      ]
     },
     "execution_count": 19,
     "metadata": {},
     "output_type": "execute_result"
    }
   ],
   "source": [
    "max(words)"
   ]
  },
  {
   "cell_type": "code",
   "execution_count": 20,
   "metadata": {},
   "outputs": [
    {
     "data": {
      "text/plain": [
       "'apple'"
      ]
     },
     "execution_count": 20,
     "metadata": {},
     "output_type": "execute_result"
    }
   ],
   "source": [
    "min(words)"
   ]
  },
  {
   "cell_type": "code",
   "execution_count": 27,
   "metadata": {
    "collapsed": true
   },
   "outputs": [],
   "source": [
    "x = [1, 2, 3,]"
   ]
  },
  {
   "cell_type": "code",
   "execution_count": 28,
   "metadata": {},
   "outputs": [
    {
     "data": {
      "text/plain": [
       "6"
      ]
     },
     "execution_count": 28,
     "metadata": {},
     "output_type": "execute_result"
    }
   ],
   "source": [
    "sum(x)"
   ]
  },
  {
   "cell_type": "code",
   "execution_count": 29,
   "metadata": {},
   "outputs": [
    {
     "data": {
      "text/plain": [
       "2.0"
      ]
     },
     "execution_count": 29,
     "metadata": {},
     "output_type": "execute_result"
    }
   ],
   "source": [
    "sum(x)/len(x)"
   ]
  },
  {
   "cell_type": "code",
   "execution_count": 30,
   "metadata": {},
   "outputs": [
    {
     "data": {
      "text/plain": [
       "3"
      ]
     },
     "execution_count": 30,
     "metadata": {},
     "output_type": "execute_result"
    }
   ],
   "source": [
    "max(x)"
   ]
  },
  {
   "cell_type": "markdown",
   "metadata": {},
   "source": [
    "### G. List Methods"
   ]
  },
  {
   "cell_type": "code",
   "execution_count": 1,
   "metadata": {},
   "outputs": [
    {
     "data": {
      "text/plain": [
       "['__add__',\n",
       " '__class__',\n",
       " '__contains__',\n",
       " '__delattr__',\n",
       " '__delitem__',\n",
       " '__dir__',\n",
       " '__doc__',\n",
       " '__eq__',\n",
       " '__format__',\n",
       " '__ge__',\n",
       " '__getattribute__',\n",
       " '__getitem__',\n",
       " '__gt__',\n",
       " '__hash__',\n",
       " '__iadd__',\n",
       " '__imul__',\n",
       " '__init__',\n",
       " '__init_subclass__',\n",
       " '__iter__',\n",
       " '__le__',\n",
       " '__len__',\n",
       " '__lt__',\n",
       " '__mul__',\n",
       " '__ne__',\n",
       " '__new__',\n",
       " '__reduce__',\n",
       " '__reduce_ex__',\n",
       " '__repr__',\n",
       " '__reversed__',\n",
       " '__rmul__',\n",
       " '__setattr__',\n",
       " '__setitem__',\n",
       " '__sizeof__',\n",
       " '__str__',\n",
       " '__subclasshook__',\n",
       " 'append',\n",
       " 'clear',\n",
       " 'copy',\n",
       " 'count',\n",
       " 'extend',\n",
       " 'index',\n",
       " 'insert',\n",
       " 'pop',\n",
       " 'remove',\n",
       " 'reverse',\n",
       " 'sort']"
      ]
     },
     "execution_count": 1,
     "metadata": {},
     "output_type": "execute_result"
    }
   ],
   "source": [
    "dir(list)"
   ]
  },
  {
   "cell_type": "code",
   "execution_count": 32,
   "metadata": {
    "collapsed": true
   },
   "outputs": [],
   "source": [
    "words.append('hat')  #Adding an additional element to a list"
   ]
  },
  {
   "cell_type": "code",
   "execution_count": 33,
   "metadata": {},
   "outputs": [
    {
     "data": {
      "text/plain": [
       "['apple', 'ball', 'cat', 'dog', 'elephant', 'fish', 'giraffe', 'hat']"
      ]
     },
     "execution_count": 33,
     "metadata": {},
     "output_type": "execute_result"
    }
   ],
   "source": [
    "words"
   ]
  },
  {
   "cell_type": "code",
   "execution_count": 34,
   "metadata": {},
   "outputs": [
    {
     "name": "stdout",
     "output_type": "stream",
     "text": [
      "Help on built-in function clear:\n",
      "\n",
      "clear(...) method of builtins.list instance\n",
      "    L.clear() -> None -- remove all items from L\n",
      "\n"
     ]
    }
   ],
   "source": [
    "help(words.clear)   #Asking for help"
   ]
  },
  {
   "cell_type": "code",
   "execution_count": 35,
   "metadata": {},
   "outputs": [
    {
     "name": "stdout",
     "output_type": "stream",
     "text": [
      "Help on built-in function remove:\n",
      "\n",
      "remove(...) method of builtins.list instance\n",
      "    L.remove(value) -> None -- remove first occurrence of value.\n",
      "    Raises ValueError if the value is not present.\n",
      "\n"
     ]
    }
   ],
   "source": [
    "help(words.remove)"
   ]
  },
  {
   "cell_type": "code",
   "execution_count": 36,
   "metadata": {
    "collapsed": true
   },
   "outputs": [],
   "source": [
    "words.remove('hat') #Removing the element hat from the list of words"
   ]
  },
  {
   "cell_type": "code",
   "execution_count": 37,
   "metadata": {},
   "outputs": [
    {
     "data": {
      "text/plain": [
       "['apple', 'ball', 'cat', 'dog', 'elephant', 'fish', 'giraffe', 'hat', 'hat']"
      ]
     },
     "execution_count": 37,
     "metadata": {},
     "output_type": "execute_result"
    }
   ],
   "source": [
    "words.append('hat')\n",
    "words.append('hat')\n",
    "words"
   ]
  },
  {
   "cell_type": "code",
   "execution_count": 38,
   "metadata": {},
   "outputs": [
    {
     "data": {
      "text/plain": [
       "['apple', 'ball', 'cat', 'dog', 'elephant', 'fish', 'giraffe', 'hat', 'hat']"
      ]
     },
     "execution_count": 38,
     "metadata": {},
     "output_type": "execute_result"
    }
   ],
   "source": [
    "words"
   ]
  },
  {
   "cell_type": "markdown",
   "metadata": {},
   "source": [
    "### H. List and Strings"
   ]
  },
  {
   "cell_type": "code",
   "execution_count": 39,
   "metadata": {},
   "outputs": [
    {
     "name": "stdout",
     "output_type": "stream",
     "text": [
      "['s', 't', 'r', 'i', 'n', 'g']\n"
     ]
    }
   ],
   "source": [
    "s = 'string'\n",
    "t = list(s)   #Converting a string to a list\n",
    "print(t)"
   ]
  },
  {
   "cell_type": "code",
   "execution_count": 40,
   "metadata": {},
   "outputs": [
    {
     "data": {
      "text/plain": [
       "['I', 'love', 'python']"
      ]
     },
     "execution_count": 40,
     "metadata": {},
     "output_type": "execute_result"
    }
   ],
   "source": [
    "mystr = 'I love python'\n",
    "mystr.split()  #Splitting words of a string and storing it into a list (default delimiter is space)"
   ]
  },
  {
   "cell_type": "code",
   "execution_count": 41,
   "metadata": {},
   "outputs": [
    {
     "data": {
      "text/plain": [
       "['I', 'Love', 'Python']"
      ]
     },
     "execution_count": 41,
     "metadata": {},
     "output_type": "execute_result"
    }
   ],
   "source": [
    "mystr = 'I-Love-Python'\n",
    "mystr.split('-') "
   ]
  },
  {
   "cell_type": "code",
   "execution_count": 42,
   "metadata": {},
   "outputs": [
    {
     "data": {
      "text/plain": [
       "['s', 't', 'r', 'i', 'n', 'g']"
      ]
     },
     "execution_count": 42,
     "metadata": {},
     "output_type": "execute_result"
    }
   ],
   "source": [
    "t"
   ]
  },
  {
   "cell_type": "code",
   "execution_count": 43,
   "metadata": {},
   "outputs": [
    {
     "data": {
      "text/plain": [
       "'string'"
      ]
     },
     "execution_count": 43,
     "metadata": {},
     "output_type": "execute_result"
    }
   ],
   "source": [
    "dlm = ''\n",
    "dlm.join(t)  #Joining the elements of a list into a string"
   ]
  },
  {
   "cell_type": "markdown",
   "metadata": {},
   "source": [
    "### I. Exercise"
   ]
  },
  {
   "cell_type": "markdown",
   "metadata": {},
   "source": [
    "[A] Suppose that you are creating a software to track transactions. First this software will prompt for the number of unique items purchased following which it will prompt for the items purchased by the customers and finally return the list of items purchased. Once the list is recorded for one customer it will ask if you want to continue.\n",
    "\n",
    "    Enter the number of unique items purchased: 3\n",
    "    Enter item no. 1 apple\n",
    "    Enter item no. 2 juice\n",
    "    Enter item no. 3 butter\n",
    "\n",
    "    Transaction details:\n",
    "    ['apple', 'juice', 'butter']\n",
    "\n",
    "    Do you want to continue: yes\n",
    "    Enter the number of unique items purchased: 2\n",
    "    Enter item no. 1 bread\n",
    "    Enter item no. 2 jam\n",
    "\n",
    "    Transaction details:\n",
    "    ['bread', 'jam']\n",
    "\n",
    "    Do you want to continue: no"
   ]
  },
  {
   "cell_type": "code",
   "execution_count": 108,
   "metadata": {},
   "outputs": [
    {
     "name": "stdout",
     "output_type": "stream",
     "text": [
      "Enter the number of unique items purchased: 4\n",
      "Enter item no. 1 : appke\n",
      "Enter item no. 2 :  lalla\n",
      "Enter item no. 3 : kss\n",
      "Enter item no. 4 : oekd\n",
      "Transaction details:  ['appke', ' lalla', 'kss', 'oekd']\n",
      "Do you wanna continue? yes\n",
      "Enter the number of unique items purchased: 8\n",
      "Enter item no. 1 : ansana\n",
      "Enter item no. 2 : s\n",
      "Enter item no. 3 : d\n",
      "Enter item no. 4 : s\n",
      "Enter item no. 5 : \n",
      "Enter item no. 6 : s\n",
      "Enter item no. 7 : \n",
      "Enter item no. 8 : d\n",
      "Transaction details:  ['ansana', 's', 'd', 's', '', 's', '', 'd']\n",
      "Do you wanna continue? no\n"
     ]
    }
   ],
   "source": [
    "y=\"yes\"\n",
    "while y==\"yes\":\n",
    "    l=[]\n",
    "    a=int(input(\"Enter the number of unique items purchased: \"))\n",
    "    for i in range (1,a+1):\n",
    "        x=str(input(\"Enter item no. %d : \"%i))\n",
    "        l.append(x)\n",
    "    print(\"Transaction details: \",l)\n",
    "    y=input(\"Do you wanna continue? \")\n",
    "    if y!=\"yes\" and y!=\"no\":\n",
    "        print(\"Please enter a valid input! \")\n",
    "    \n"
   ]
  },
  {
   "cell_type": "markdown",
   "metadata": {},
   "source": [
    "[B] The previous solution (as it is evident) was a very crude solution. Someone in the billing counter has no idea about the number of unique products purchased by a customer. Therefore the program should be designed in such a way that will enable the person in the billing counter to start recording the items once a customer arrives at the billing desk and keep recording the items until it signals done. Once the person is done recording the items of one customer it will ask if he/she need to record one more transaction. If yes it continues...\n",
    "\n",
    "    Enter item no. 1 : apple\n",
    "    Enter item no. 2 : juice\n",
    "    Enter item no. 3 : butter\n",
    "    Enter item no. 4 : done\n",
    "    \n",
    "    Transaction for Customer 1\n",
    "    ['apple', 'juice', 'butter']\n",
    "    \n",
    "    \n",
    "    Next customer? (yes/no): yes\n",
    "    \n",
    "    Enter item no. 1 : bread\n",
    "    Enter item no. 2 : jam\n",
    "    Enter item no. 3 : done\n",
    "    \n",
    "    Transaction for Customer 1\n",
    "    ['bread', 'jam']\n",
    "    \n",
    "    \n",
    "    Next customer? (yes/no): no"
   ]
  },
  {
   "cell_type": "code",
   "execution_count": 115,
   "metadata": {},
   "outputs": [
    {
     "name": "stdout",
     "output_type": "stream",
     "text": [
      "Enter item no. 1 : hee\n",
      "Enter item no. 2 : djnsjf\n",
      "Enter item no. 3 : jdjf\n",
      "Enter item no. 4 : deue\n",
      "Enter item no. 5 : sde\n",
      "Enter item no. 6 : done\n",
      "Transaction details for customer 1:  ['hee', 'djnsjf', 'jdjf', 'deue', 'sde']\n",
      "Do you wanna continue? yes\n",
      "Enter item no. 1 : adis\n",
      "Enter item no. 2 : sded\n",
      "Enter item no. 3 : ef\n",
      "Enter item no. 4 : done\n",
      "Transaction details for customer 2:  ['adis', 'sded', 'ef']\n",
      "Do you wanna continue? no\n"
     ]
    }
   ],
   "source": [
    "y=\"yes\"\n",
    "z=1\n",
    "while y==\"yes\":\n",
    "    i=0\n",
    "    x=\"\"\n",
    "    l=[]\n",
    "    while x!=\"done\":\n",
    "        i+=1\n",
    "        x=str(input(\"Enter item no. %d : \"%i))\n",
    "        if x!=\"done\":\n",
    "            l.append(x)\n",
    "    print(\"Transaction details for customer %d: \"%z, l)\n",
    "    z+=1\n",
    "    y=input(\"Next customer? \")\n",
    "    if y!=\"yes\" and y!=\"no\":\n",
    "        print(\"Please enter a valid input! \")"
   ]
  },
  {
   "cell_type": "markdown",
   "metadata": {},
   "source": [
    "[C] Modify the above program such that for every item the software prompts  for the quantity purchases and its price. Finally for each customers, along with the list of items purchases it also gives the bill amount.\n",
    "\n",
    "    Item 1 : apple\n",
    "    Quantity for item 1: 0.5\n",
    "    Price for item 1: 109\n",
    "    Item 2 : juice\n",
    "    Quantity for item 2: 1\n",
    "    Price for item 2: 99\n",
    "    Item 3 : butter\n",
    "    Quantity for item 3: 2\n",
    "    Price for item 3: 45\n",
    "    Item 4 : done\n",
    "    \n",
    "    Transaction for Customer 1\n",
    "    ['apple', 'juice', 'butter']\n",
    "    Total:  243.5\n",
    "    \n",
    "    \n",
    "    Next customer? (yes/no): yes\n",
    "    \n",
    "    Item 1 : bread\n",
    "    Quantity for item 1: 1\n",
    "    Price for item 1: 31\n",
    "    Item 2 : Jam\n",
    "    Quantity for item 2: 1\n",
    "    Price for item 2: 89\n",
    "    Item 3 : done\n",
    "    \n",
    "    Transaction for Customer 1\n",
    "    ['bread', 'Jam']\n",
    "    Total:  120.0\n",
    "    \n",
    "    \n",
    "    Next customer? (yes/no): no"
   ]
  },
  {
   "cell_type": "code",
   "execution_count": 119,
   "metadata": {},
   "outputs": [
    {
     "name": "stdout",
     "output_type": "stream",
     "text": [
      "Item 1 : apple\n",
      "Quantity for item 1 :3\n",
      "Price for item 1 : 5\n",
      "Item 2 : apsp\n",
      "Quantity for item 2 :4\n",
      "Price for item 2 : 3\n",
      "Item 3 : done\n",
      "Transaction for customer 1:  ['apple', 'apsp']\n",
      "Total :  27.0\n",
      "Next customer? yes\n",
      "Item 1 : aoskk\n",
      "Quantity for item 1 :3\n",
      "Price for item 1 : 343.59\n",
      "Item 2 : done\n",
      "Transaction for customer 2:  ['aoskk']\n",
      "Total :  1030.77\n",
      "Next customer? no\n"
     ]
    }
   ],
   "source": [
    "y=\"yes\"\n",
    "z=1\n",
    "while y==\"yes\":\n",
    "    t=0\n",
    "    i=0\n",
    "    x=\"\"\n",
    "    l=[]\n",
    "    while x!=\"done\":\n",
    "        i+=1\n",
    "        x=str(input(\"Item %d : \"%i))\n",
    "        if x==\"done\":\n",
    "            break\n",
    "        f=int(input(\"Quantity for item %d :\"%i))\n",
    "        p=float(input(\"Price for item %d : \"%i))\n",
    "        t=t+f*p\n",
    "        if x!=\"done\":\n",
    "            l.append(x)\n",
    "    print(\"Transaction for customer %d: \"%z, l)\n",
    "    print(\"Total : \",t)\n",
    "    z+=1\n",
    "    y=input(\"Next customer? \")\n",
    "    if y!=\"yes\" and y!=\"no\":\n",
    "        print(\"Please enter a valid input! \")"
   ]
  },
  {
   "cell_type": "markdown",
   "metadata": {},
   "source": [
    "[D] I am sure that almost all of you have searched coupon codes to get discounts from Food Panda or Swiggy. Have you noticed that once you have applied a code you cannot apply it again? But the website shows you all. Come on , let us write one such program.\n",
    "\n",
    "    Following are the available list of coupons for Food Panda\n",
    "    ['FP040', 'FP111', 'FPHBD05', 'FP9989', 'HappyMeal']\n",
    "\n",
    "\n",
    "    Type the one you want to apply: FP9989\n",
    "    Congratulation! You have successfully applied this coupon\n",
    "\n",
    "    would you like to use another coupon?yes\n",
    "    Following are the available list of coupons for Food Panda\n",
    "    ['FP040', 'FP111', 'FPHBD05', 'FP9989', 'HappyMeal']\n",
    "\n",
    "\n",
    "    Type the one you want to apply: FP9989\n",
    "    Sorry! You have already applied this coupon\n",
    "\n",
    "    would you like to use another coupon? no\n",
    "\n"
   ]
  },
  {
   "cell_type": "code",
   "execution_count": 126,
   "metadata": {},
   "outputs": [
    {
     "name": "stdout",
     "output_type": "stream",
     "text": [
      "Following are the available list of coupons for Food Panda\n",
      "['FP040', 'FP111', 'FPHBD05', 'FP9989', 'HappyMeal']\n",
      "Type the one you want to apply: FP040\n",
      "Congratulation! You have successfully applied this coupon \n",
      "would you like to use another coupon? yes\n",
      "Type the one you want to apply: FP040\n",
      "Sorry! You have already applied this coupon \n",
      "would you like to use another coupon? yes\n",
      "Type the one you want to apply: FP111\n",
      "Congratulation! You have successfully applied this coupon \n",
      "would you like to use another coupon? yes\n",
      "Type the one you want to apply: FP111\n",
      "Sorry! You have already applied this coupon \n",
      "would you like to use another coupon? NO\n"
     ]
    }
   ],
   "source": [
    "print(\"Following are the available list of coupons for Food Panda\\n['FP040', 'FP111', 'FPHBD05', 'FP9989', 'HappyMeal']\")\n",
    "L=['FP040', 'FP111', 'FPHBD05', 'FP9989', 'HappyMeal']\n",
    "x=\"yes\"\n",
    "q=[]\n",
    "while x==\"yes\" or y==\"Yes\" or y==\"YES\":\n",
    "    a=input(\"Type the one you want to apply: \")\n",
    "    if a in L:\n",
    "        if a not in q:\n",
    "            print(\"Congratulation! You have successfully applied this coupon \")\n",
    "            q.append(a)\n",
    "        else:\n",
    "            print(\"Sorry! You have already applied this coupon \")\n",
    "    x=str(input(\"would you like to use another coupon? \"))\n",
    "        "
   ]
  },
  {
   "cell_type": "markdown",
   "metadata": {},
   "source": [
    "[E] In the files exercises, we had found out the list of email ids from the mbox file. Can we extract the list of unique email ids?\n",
    "\n",
    "    stephen.marquard@uct.ac.za\n",
    "    louis@media.berkeley.edu\n",
    "    zqian@umich.edu\n",
    "    rjlowe@iupui.edu\n",
    "    cwen@iupui.edu\n",
    "    gsilver@umich.edu\n",
    "    wagnermr@iupui.edu\n",
    "    antranig@caret.cam.ac.uk\n",
    "    gopal.ramasammycook@gmail.com\n",
    "    david.horwitz@uct.ac.za\n",
    "    ray@media.berkeley.edu\n",
    "\n",
    "    Total unique contacts = 11"
   ]
  },
  {
   "cell_type": "code",
   "execution_count": 93,
   "metadata": {
    "collapsed": true
   },
   "outputs": [],
   "source": [
    "import os"
   ]
  },
  {
   "cell_type": "code",
   "execution_count": 94,
   "metadata": {
    "collapsed": true
   },
   "outputs": [],
   "source": [
    "os.chdir('/Users/skywalker/Downloads')"
   ]
  },
  {
   "cell_type": "code",
   "execution_count": 95,
   "metadata": {},
   "outputs": [
    {
     "data": {
      "text/plain": [
       "<_io.TextIOWrapper name='mbox-short.txt' mode='r' encoding='UTF-8'>"
      ]
     },
     "execution_count": 95,
     "metadata": {},
     "output_type": "execute_result"
    }
   ],
   "source": [
    "file=open(\"mbox-short.txt\")\n",
    "file"
   ]
  },
  {
   "cell_type": "code",
   "execution_count": 96,
   "metadata": {},
   "outputs": [
    {
     "name": "stdout",
     "output_type": "stream",
     "text": [
      "stephen.marquard@uct.ac.za\n",
      "louis@media.berkeley.edu\n",
      "zqian@umich.edu\n",
      "jlowe@iupui.edu\n",
      "cwen@iupui.edu\n",
      "gsilver@umich.edu\n",
      "wagnermr@iupui.edu\n",
      "antranig@caret.cam.ac.uk\n",
      "gopal.ramasammycook@gmail.com\n",
      "david.horwitz@uct.ac.za\n",
      "ay@media.berkeley.edu\n",
      "The count is:  11\n"
     ]
    }
   ],
   "source": [
    "L=[]\n",
    "count=0\n",
    "for i in file:\n",
    "    if i.startswith(\"From:\"):\n",
    "        i=i.rstrip()\n",
    "        email=i.lstrip(\"From: \")\n",
    "        if email not in L:\n",
    "            L.append(email)\n",
    "            print(email)\n",
    "            count+=1\n",
    "print(\"The count is: \",count)"
   ]
  },
  {
   "cell_type": "code",
   "execution_count": null,
   "metadata": {
    "collapsed": true
   },
   "outputs": [],
   "source": []
  }
 ],
 "metadata": {
  "kernelspec": {
   "display_name": "Python 3",
   "language": "python",
   "name": "python3"
  },
  "language_info": {
   "codemirror_mode": {
    "name": "ipython",
    "version": 3
   },
   "file_extension": ".py",
   "mimetype": "text/x-python",
   "name": "python",
   "nbconvert_exporter": "python",
   "pygments_lexer": "ipython3",
   "version": "3.6.3"
  }
 },
 "nbformat": 4,
 "nbformat_minor": 2
}
