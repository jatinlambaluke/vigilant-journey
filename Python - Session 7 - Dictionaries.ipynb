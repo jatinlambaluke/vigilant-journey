{
 "cells": [
  {
   "cell_type": "markdown",
   "metadata": {},
   "source": [
    "## Dictionaries"
   ]
  },
  {
   "cell_type": "markdown",
   "metadata": {
    "collapsed": true
   },
   "source": [
    "A dictionary is like a list, but more general. In a list, the positions (a.k.a. indices) have to be integers; in a dictionary the indices can be (almost) any type.\n",
    "\n",
    "You can think of a dictionary as a mapping between a set of indices (which are called keys) and a set of values. Each key maps to a value. The association of a key and a value is called a key-value pair or sometimes an item"
   ]
  },
  {
   "cell_type": "markdown",
   "metadata": {},
   "source": [
    "### An Example of Dictionary"
   ]
  },
  {
   "cell_type": "markdown",
   "metadata": {},
   "source": [
    "Let us build a dictionary that maps English to Spanish words. In this dictionary the keys will be some english words and their corresponding values will be the corresponding spanish words"
   ]
  },
  {
   "cell_type": "code",
   "execution_count": 1,
   "metadata": {
    "collapsed": true
   },
   "outputs": [],
   "source": [
    "eng2sp = {'one': 'uno', 'two': 'dos', 'three': 'tres'}  #key and value pair"
   ]
  },
  {
   "cell_type": "markdown",
   "metadata": {},
   "source": [
    "**Note:** \n",
    "\n",
    "* A dictionary is created using a curly bracket\n",
    "\n",
    "* The values in a dictionary are indexed by keys. The keys are needed to be specified while creating a dictionary. \n",
    "\n",
    "* As an example, 'one':'uno' represents a key-value pair."
   ]
  },
  {
   "cell_type": "markdown",
   "metadata": {},
   "source": [
    "*What if we enclose some values (separated by commas) in a curly bracket? What type of object do we get?*\n",
    "\n",
    "* *A dictionary with only keys.*\n",
    "* *A dictionary with elements indexed by integer*\n",
    "* *This object is not a dictionary*"
   ]
  },
  {
   "cell_type": "code",
   "execution_count": 2,
   "metadata": {
    "collapsed": true
   },
   "outputs": [],
   "source": [
    "d={'one', 'two', 'three'}"
   ]
  },
  {
   "cell_type": "code",
   "execution_count": 3,
   "metadata": {},
   "outputs": [
    {
     "data": {
      "text/plain": [
       "set"
      ]
     },
     "execution_count": 3,
     "metadata": {},
     "output_type": "execute_result"
    }
   ],
   "source": [
    "type(d)"
   ]
  },
  {
   "cell_type": "code",
   "execution_count": 4,
   "metadata": {
    "collapsed": true
   },
   "outputs": [],
   "source": [
    "d={1.2:'one', 2.75:'two'}"
   ]
  },
  {
   "cell_type": "code",
   "execution_count": 5,
   "metadata": {},
   "outputs": [
    {
     "data": {
      "text/plain": [
       "dict"
      ]
     },
     "execution_count": 5,
     "metadata": {},
     "output_type": "execute_result"
    }
   ],
   "source": [
    "type(d)"
   ]
  },
  {
   "cell_type": "markdown",
   "metadata": {},
   "source": [
    "### Retrieving elements from a dictionary"
   ]
  },
  {
   "cell_type": "code",
   "execution_count": 6,
   "metadata": {},
   "outputs": [
    {
     "data": {
      "text/plain": [
       "'uno'"
      ]
     },
     "execution_count": 6,
     "metadata": {},
     "output_type": "execute_result"
    }
   ],
   "source": [
    "eng2sp['one']"
   ]
  },
  {
   "cell_type": "code",
   "execution_count": 7,
   "metadata": {},
   "outputs": [
    {
     "data": {
      "text/plain": [
       "'dos'"
      ]
     },
     "execution_count": 7,
     "metadata": {},
     "output_type": "execute_result"
    }
   ],
   "source": [
    "eng2sp['two']"
   ]
  },
  {
   "cell_type": "code",
   "execution_count": 8,
   "metadata": {},
   "outputs": [
    {
     "data": {
      "text/plain": [
       "'one'"
      ]
     },
     "execution_count": 8,
     "metadata": {},
     "output_type": "execute_result"
    }
   ],
   "source": [
    "d[1.2]"
   ]
  },
  {
   "cell_type": "markdown",
   "metadata": {},
   "source": [
    "### Slicing a dictionary"
   ]
  },
  {
   "cell_type": "code",
   "execution_count": 9,
   "metadata": {
    "collapsed": true
   },
   "outputs": [],
   "source": [
    "l = ['one', 'three']"
   ]
  },
  {
   "cell_type": "code",
   "execution_count": 10,
   "metadata": {},
   "outputs": [
    {
     "name": "stdout",
     "output_type": "stream",
     "text": [
      "{'one': 'uno', 'three': 'tres'}\n"
     ]
    }
   ],
   "source": [
    "d = dict()\n",
    "for key in l:\n",
    "    d[key] = eng2sp[key]\n",
    "print(d)"
   ]
  },
  {
   "cell_type": "code",
   "execution_count": 11,
   "metadata": {},
   "outputs": [
    {
     "data": {
      "text/plain": [
       "{'one': 'uno', 'three': 'tres'}"
      ]
     },
     "execution_count": 11,
     "metadata": {},
     "output_type": "execute_result"
    }
   ],
   "source": [
    "#Alternate way\n",
    "dict([(key, eng2sp[key]) for key in l])"
   ]
  },
  {
   "cell_type": "markdown",
   "metadata": {},
   "source": [
    "### Adding Key-Value in a dictionary"
   ]
  },
  {
   "cell_type": "code",
   "execution_count": 12,
   "metadata": {
    "collapsed": true
   },
   "outputs": [],
   "source": [
    "eng2sp['four'] = 'cuatro'"
   ]
  },
  {
   "cell_type": "code",
   "execution_count": 13,
   "metadata": {},
   "outputs": [
    {
     "data": {
      "text/plain": [
       "{'four': 'cuatro', 'one': 'uno', 'three': 'tres', 'two': 'dos'}"
      ]
     },
     "execution_count": 13,
     "metadata": {},
     "output_type": "execute_result"
    }
   ],
   "source": [
    "eng2sp"
   ]
  },
  {
   "cell_type": "markdown",
   "metadata": {},
   "source": [
    "### in Operator for Dictionary"
   ]
  },
  {
   "cell_type": "markdown",
   "metadata": {},
   "source": [
    "The in operator works on dictionaries; it tells you whether something appears as a key in the dictionary"
   ]
  },
  {
   "cell_type": "code",
   "execution_count": 14,
   "metadata": {},
   "outputs": [
    {
     "data": {
      "text/plain": [
       "True"
      ]
     },
     "execution_count": 14,
     "metadata": {},
     "output_type": "execute_result"
    }
   ],
   "source": [
    "'one' in eng2sp"
   ]
  },
  {
   "cell_type": "code",
   "execution_count": 15,
   "metadata": {},
   "outputs": [
    {
     "data": {
      "text/plain": [
       "False"
      ]
     },
     "execution_count": 15,
     "metadata": {},
     "output_type": "execute_result"
    }
   ],
   "source": [
    "'uno' in eng2sp"
   ]
  },
  {
   "cell_type": "markdown",
   "metadata": {},
   "source": [
    "### Counting the Frequency Distribution of Letters in a Word"
   ]
  },
  {
   "cell_type": "code",
   "execution_count": 16,
   "metadata": {},
   "outputs": [
    {
     "name": "stdout",
     "output_type": "stream",
     "text": [
      "Enter the word : hellobello\n"
     ]
    },
    {
     "data": {
      "text/plain": [
       "{'b': 1, 'e': 2, 'h': 1, 'l': 4, 'o': 2}"
      ]
     },
     "execution_count": 16,
     "metadata": {},
     "output_type": "execute_result"
    }
   ],
   "source": [
    "#Frequency distriution of the letters in 'banana'\n",
    "word=input(\"Enter the word : \")\n",
    "count={}\n",
    "for letter in word:\n",
    "    if letter not in count:\n",
    "        count[letter]=1\n",
    "    else:\n",
    "        count[letter]+=1\n",
    "count"
   ]
  },
  {
   "cell_type": "markdown",
   "metadata": {},
   "source": [
    "**The 'get' method for dictionary**"
   ]
  },
  {
   "cell_type": "markdown",
   "metadata": {},
   "source": [
    " Dictionaries have a method called get that takes a key and a default value. If the key appears in the dictionary, get returns the corresponding value; otherwise it returns the default value. "
   ]
  },
  {
   "cell_type": "code",
   "execution_count": 17,
   "metadata": {},
   "outputs": [
    {
     "data": {
      "text/plain": [
       "'uno'"
      ]
     },
     "execution_count": 17,
     "metadata": {},
     "output_type": "execute_result"
    }
   ],
   "source": [
    "#For example,\n",
    "eng2sp.get('one',0) #Return 0 as default value"
   ]
  },
  {
   "cell_type": "code",
   "execution_count": 18,
   "metadata": {},
   "outputs": [
    {
     "data": {
      "text/plain": [
       "0"
      ]
     },
     "execution_count": 18,
     "metadata": {},
     "output_type": "execute_result"
    }
   ],
   "source": [
    "eng2sp.get('five',0)"
   ]
  },
  {
   "cell_type": "markdown",
   "metadata": {},
   "source": [
    "**Making the counting simple using the 'get' method**"
   ]
  },
  {
   "cell_type": "code",
   "execution_count": 3,
   "metadata": {},
   "outputs": [
    {
     "name": "stdout",
     "output_type": "stream",
     "text": [
      "Enter the word : hellobello\n"
     ]
    },
    {
     "data": {
      "text/plain": [
       "{'b': 1, 'e': 2, 'h': 1, 'l': 4, 'o': 2}"
      ]
     },
     "execution_count": 3,
     "metadata": {},
     "output_type": "execute_result"
    }
   ],
   "source": [
    "word=input(\"Enter the word : \")\n",
    "d={}\n",
    "type(d)\n",
    "for letter in word:\n",
    "    d[letter] = d.get(letter,0)+1\n",
    "    \n",
    "d\n",
    "    #if count.get(letter,0)!=0:\n",
    "    #    print(letter,count[letter])\n",
    "        "
   ]
  },
  {
   "cell_type": "markdown",
   "metadata": {},
   "source": [
    "### A Common Use of Dictionaries"
   ]
  },
  {
   "cell_type": "markdown",
   "metadata": {
    "collapsed": true
   },
   "source": [
    "One of the common uses of a dictionary is to count the occurrence of words in a ﬁle with some written text."
   ]
  },
  {
   "cell_type": "code",
   "execution_count": 57,
   "metadata": {
    "collapsed": true
   },
   "outputs": [],
   "source": [
    "#Exercise: Read the Ashop1.txt file\n",
    "import os"
   ]
  },
  {
   "cell_type": "code",
   "execution_count": 65,
   "metadata": {},
   "outputs": [
    {
     "name": "stdout",
     "output_type": "stream",
     "text": [
      "{'Precious': 3, 'things': 3, 'are': 3, 'for': 7, 'those': 3, 'that': 7, 'can': 3, 'prize': 5, 'them.': 3, 'The': 2, 'Cock': 2, 'and': 6, 'the': 12, 'Pearl': 4, 'A': 2, 'cock': 2, 'was': 2, 'once': 2, 'strutting': 2, 'up': 2, 'down': 2, 'farmyard': 2, 'among': 2, 'hens': 2, 'when': 2, 'suddenly': 2, 'he': 2, 'espied': 2, 'something': 2, 'shinning': 2, 'amid': 2, 'straw.': 4, '\"Ho!': 2, 'ho!\"': 2, 'quoth': 4, 'he,': 2, '\"that\\'s': 2, 'me,\"': 2, 'soon': 2, 'rooted': 2, 'it': 4, 'out': 4, 'from': 2, 'beneath': 2, 'What': 2, 'did': 2, 'turn': 2, 'to': 2, 'be': 4, 'but': 4, 'a': 8, 'by': 2, 'some': 2, 'chance': 2, 'had': 2, 'been': 2, 'lost': 2, 'in': 2, 'yard?': 2, '\"You': 2, 'may': 2, 'treasure,\"': 2, 'Master': 2, 'Cock,': 2, '\"to': 2, 'men': 2, 'you,': 2, 'me': 2, 'I': 2, 'would': 2, 'rather': 2, 'have': 2, 'single': 2, 'barley-corn': 2, 'than': 2, 'peck': 2, 'of': 2, 'pearls.\"': 2}\n"
     ]
    }
   ],
   "source": [
    "os.chdir(\"/Users/skywalker/Downloads\")\n",
    "ashop = open('Ashop.txt')     \n",
    "for i in ashop1:\n",
    "    l=i.split()\n",
    "    for x in l:\n",
    "        d[x] = d.get(x,0)+1\n",
    "print(d)"
   ]
  },
  {
   "cell_type": "code",
   "execution_count": 67,
   "metadata": {},
   "outputs": [
    {
     "name": "stdout",
     "output_type": "stream",
     "text": [
      "3 Precious\n",
      "3 things\n",
      "3 are\n",
      "7 for\n",
      "3 those\n",
      "7 that\n",
      "3 can\n",
      "5 prize\n",
      "3 them.\n",
      "6 and\n",
      "12 the\n",
      "4 Pearl\n",
      "4 straw.\n",
      "4 quoth\n",
      "4 it\n",
      "4 out\n",
      "4 be\n",
      "4 but\n",
      "8 a\n"
     ]
    }
   ],
   "source": [
    "for key in d:\n",
    "    if d[key] >=3:\n",
    "        print(d[key],key)"
   ]
  },
  {
   "cell_type": "markdown",
   "metadata": {},
   "source": [
    "**Exercise:** Find the frequency distribution of the of the words present in this file. \n",
    "\n",
    "*(A hint is given at the bottom. Look at it only if you are no more able to figure out how to do it)*"
   ]
  },
  {
   "cell_type": "code",
   "execution_count": null,
   "metadata": {
    "collapsed": true
   },
   "outputs": [],
   "source": [
    "#Printing properly\n"
   ]
  },
  {
   "cell_type": "markdown",
   "metadata": {},
   "source": [
    "Note: The printing is not in any particular order"
   ]
  },
  {
   "cell_type": "code",
   "execution_count": null,
   "metadata": {
    "collapsed": true
   },
   "outputs": [],
   "source": [
    "#Printing words with count greater than or equal to 2\n"
   ]
  },
  {
   "cell_type": "code",
   "execution_count": 69,
   "metadata": {},
   "outputs": [
    {
     "data": {
      "text/plain": [
       "dict_keys(['Precious', 'things', 'are', 'for', 'those', 'that', 'can', 'prize', 'them.', 'The', 'Cock', 'and', 'the', 'Pearl', 'A', 'cock', 'was', 'once', 'strutting', 'up', 'down', 'farmyard', 'among', 'hens', 'when', 'suddenly', 'he', 'espied', 'something', 'shinning', 'amid', 'straw.', '\"Ho!', 'ho!\"', 'quoth', 'he,', '\"that\\'s', 'me,\"', 'soon', 'rooted', 'it', 'out', 'from', 'beneath', 'What', 'did', 'turn', 'to', 'be', 'but', 'a', 'by', 'some', 'chance', 'had', 'been', 'lost', 'in', 'yard?', '\"You', 'may', 'treasure,\"', 'Master', 'Cock,', '\"to', 'men', 'you,', 'me', 'I', 'would', 'rather', 'have', 'single', 'barley-corn', 'than', 'peck', 'of', 'pearls.\"'])"
      ]
     },
     "execution_count": 69,
     "metadata": {},
     "output_type": "execute_result"
    }
   ],
   "source": [
    "#Printing keys in alphabetical order:\n",
    "\n",
    "#But before that....\n",
    "#Method keys - makes a dict of keys\n",
    "d.keys()"
   ]
  },
  {
   "cell_type": "code",
   "execution_count": 70,
   "metadata": {},
   "outputs": [
    {
     "data": {
      "text/plain": [
       "dict_keys"
      ]
     },
     "execution_count": 70,
     "metadata": {},
     "output_type": "execute_result"
    }
   ],
   "source": [
    "type(d.keys())"
   ]
  },
  {
   "cell_type": "code",
   "execution_count": 75,
   "metadata": {},
   "outputs": [
    {
     "data": {
      "text/plain": [
       "['\"Ho!',\n",
       " '\"You',\n",
       " '\"that\\'s',\n",
       " '\"to',\n",
       " 'A',\n",
       " 'Cock',\n",
       " 'Cock,',\n",
       " 'I',\n",
       " 'Master',\n",
       " 'Pearl',\n",
       " 'Precious',\n",
       " 'The',\n",
       " 'What',\n",
       " 'a',\n",
       " 'amid',\n",
       " 'among',\n",
       " 'and',\n",
       " 'are',\n",
       " 'barley-corn',\n",
       " 'be',\n",
       " 'been',\n",
       " 'beneath',\n",
       " 'but',\n",
       " 'by',\n",
       " 'can',\n",
       " 'chance',\n",
       " 'cock',\n",
       " 'did',\n",
       " 'down',\n",
       " 'espied',\n",
       " 'farmyard',\n",
       " 'for',\n",
       " 'from',\n",
       " 'had',\n",
       " 'have',\n",
       " 'he',\n",
       " 'he,',\n",
       " 'hens',\n",
       " 'ho!\"',\n",
       " 'in',\n",
       " 'it',\n",
       " 'lost',\n",
       " 'may',\n",
       " 'me',\n",
       " 'me,\"',\n",
       " 'men',\n",
       " 'of',\n",
       " 'once',\n",
       " 'out',\n",
       " 'pearls.\"',\n",
       " 'peck',\n",
       " 'prize',\n",
       " 'quoth',\n",
       " 'rather',\n",
       " 'rooted',\n",
       " 'shinning',\n",
       " 'single',\n",
       " 'some',\n",
       " 'something',\n",
       " 'soon',\n",
       " 'straw.',\n",
       " 'strutting',\n",
       " 'suddenly',\n",
       " 'than',\n",
       " 'that',\n",
       " 'the',\n",
       " 'them.',\n",
       " 'things',\n",
       " 'those',\n",
       " 'to',\n",
       " 'treasure,\"',\n",
       " 'turn',\n",
       " 'up',\n",
       " 'was',\n",
       " 'when',\n",
       " 'would',\n",
       " 'yard?',\n",
       " 'you,']"
      ]
     },
     "execution_count": 75,
     "metadata": {},
     "output_type": "execute_result"
    }
   ],
   "source": [
    "keys = list(d.keys())\n",
    "#keys.lower()\n",
    "keys.sort()\n",
    "keys"
   ]
  },
  {
   "cell_type": "code",
   "execution_count": 73,
   "metadata": {},
   "outputs": [
    {
     "name": "stdout",
     "output_type": "stream",
     "text": [
      "4 Pearl\n",
      "3 Precious\n",
      "8 a\n",
      "6 and\n",
      "3 are\n",
      "4 be\n",
      "4 but\n",
      "3 can\n",
      "7 for\n",
      "4 it\n",
      "4 out\n",
      "5 prize\n",
      "4 quoth\n",
      "4 straw.\n",
      "7 that\n",
      "12 the\n",
      "3 them.\n",
      "3 things\n",
      "3 those\n"
     ]
    }
   ],
   "source": [
    "for key in keys:\n",
    "    if d[key] >= 3:\n",
    "        print(d[key],key)"
   ]
  },
  {
   "cell_type": "code",
   "execution_count": null,
   "metadata": {
    "collapsed": true
   },
   "outputs": [],
   "source": [
    "#Then any idea...???\n"
   ]
  },
  {
   "cell_type": "markdown",
   "metadata": {},
   "source": [
    "### Advanced Text Parsing"
   ]
  },
  {
   "cell_type": "markdown",
   "metadata": {
    "collapsed": true
   },
   "source": [
    "The actual text for this particular Ashop's fable is given in the file Ashop.txt. The actual file has lots of punctuations. We should also take care of the case sensitivity."
   ]
  },
  {
   "cell_type": "code",
   "execution_count": 5,
   "metadata": {},
   "outputs": [
    {
     "data": {
      "text/plain": [
       "'!\"#$%&\\'()*+,-./:;<=>?@[\\\\]^_`{|}~'"
      ]
     },
     "execution_count": 5,
     "metadata": {},
     "output_type": "execute_result"
    }
   ],
   "source": [
    "#Before we do so lets look at some other thing.\n",
    "\n",
    "#1. punctuation\n",
    "import string\n",
    "p = string.punctuation\n",
    "p"
   ]
  },
  {
   "cell_type": "code",
   "execution_count": 6,
   "metadata": {},
   "outputs": [
    {
     "name": "stdout",
     "output_type": "stream",
     "text": [
      "WoW\n"
     ]
    }
   ],
   "source": [
    "#2. translate method for string\n",
    "# str.maketrans()\n",
    "\n",
    "#This uses the 3-argument version of str.maketrans with arguments (x, y, z) where 'x' and 'y'\n",
    "# must be equal-length strings and characters in 'x' are replaced by characters in 'y'. 'z'\n",
    "# is a string (string.punctuation here) where each character in the string is mapped to None\n",
    "\n",
    "s = \"wow!\"\n",
    "trans = str.maketrans(\"w\", \"W\", \"!\") #Replace 'w' by 'W' and '!' is mapped to none\n",
    "s = s.translate(trans)\n",
    "print(s)"
   ]
  },
  {
   "cell_type": "code",
   "execution_count": 12,
   "metadata": {},
   "outputs": [
    {
     "name": "stdout",
     "output_type": "stream",
     "text": [
      "Wow isnt today a great day\n"
     ]
    }
   ],
   "source": [
    "string = \"Wow! isn't today a great day???\"\n",
    "trans = str.maketrans(\"\",\"\", p)\n",
    "string = string.translate(trans)\n",
    "print(string)"
   ]
  },
  {
   "cell_type": "code",
   "execution_count": 79,
   "metadata": {},
   "outputs": [
    {
     "data": {
      "text/plain": [
       "str"
      ]
     },
     "execution_count": 79,
     "metadata": {},
     "output_type": "execute_result"
    }
   ],
   "source": [
    "type(p)"
   ]
  },
  {
   "cell_type": "code",
   "execution_count": null,
   "metadata": {
    "collapsed": true
   },
   "outputs": [],
   "source": []
  },
  {
   "cell_type": "code",
   "execution_count": null,
   "metadata": {
    "collapsed": true
   },
   "outputs": [],
   "source": []
  },
  {
   "cell_type": "markdown",
   "metadata": {
    "collapsed": true
   },
   "source": [
    "### Further Problems"
   ]
  },
  {
   "cell_type": "markdown",
   "metadata": {},
   "source": [
    "**Problem 1**\n",
    "\n",
    "Write a program that categorizes each mail message by which day of the week the commit was done.\n",
    "\n",
    "    Sample Line: \n",
    "    From stephen.marquard@uct.ac.za Sat Jan 5 09:14:16 2008\n",
    "\n",
    "    Sample Execution: \n",
    "    python dow.py \n",
    "    Enter a file name: mbox-short.txt \n",
    "    {'Fri': 20, 'Thu': 6, 'Sat': 1}"
   ]
  },
  {
   "cell_type": "code",
   "execution_count": null,
   "metadata": {
    "collapsed": true
   },
   "outputs": [],
   "source": [
    "import os\n",
    "os.chdir(\"C:\\\\Users\\\\Gourab\\\\Downloads\")"
   ]
  },
  {
   "cell_type": "code",
   "execution_count": null,
   "metadata": {
    "collapsed": true
   },
   "outputs": [],
   "source": [
    "fhand = open('mbox.txt')\n"
   ]
  },
  {
   "cell_type": "markdown",
   "metadata": {},
   "source": [
    "**Problem 2**\n",
    "\n",
    "From where did they receive most of their messages\n",
    "\n",
    "    Enter a file name: mbox.txt \n",
    "    zqian@umich.edu 195"
   ]
  },
  {
   "cell_type": "code",
   "execution_count": null,
   "metadata": {
    "collapsed": true
   },
   "outputs": [],
   "source": []
  },
  {
   "cell_type": "markdown",
   "metadata": {
    "collapsed": true
   },
   "source": [
    "**Problem 3**\n",
    "\n",
    "Write a program to record the domain name (instead of the address) where the message was sent from instead of who the mail came from (i.e. the whole e-mail address). At the end of the program print out the contents of your dictionary."
   ]
  },
  {
   "cell_type": "code",
   "execution_count": null,
   "metadata": {
    "collapsed": true
   },
   "outputs": [],
   "source": []
  }
 ],
 "metadata": {
  "kernelspec": {
   "display_name": "Python 3",
   "language": "python",
   "name": "python3"
  },
  "language_info": {
   "codemirror_mode": {
    "name": "ipython",
    "version": 3
   },
   "file_extension": ".py",
   "mimetype": "text/x-python",
   "name": "python",
   "nbconvert_exporter": "python",
   "pygments_lexer": "ipython3",
   "version": "3.6.3"
  }
 },
 "nbformat": 4,
 "nbformat_minor": 2
}
